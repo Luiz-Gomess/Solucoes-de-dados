{
 "cells": [
  {
   "cell_type": "markdown",
   "id": "3468ff7f",
   "metadata": {},
   "source": [
    "## Repartição e processamento de arquivo\n",
    "Esse script tem o objetivo de extrair as colunas desejadas de um csv grande e separar o resultado em três arquivos menores."
   ]
  },
  {
   "cell_type": "markdown",
   "id": "de9204b3",
   "metadata": {},
   "source": [
    "### Import do pandas"
   ]
  },
  {
   "cell_type": "code",
   "execution_count": null,
   "id": "d863ef7c",
   "metadata": {},
   "outputs": [],
   "source": [
    "import pandas as pd"
   ]
  },
  {
   "cell_type": "markdown",
   "id": "09d22e25",
   "metadata": {},
   "source": [
    "### Carregamento do Dicionário de Dados e Extração de Colunas\n",
    "\n",
    "1. **Arquivo de Dados**: `arquivo.csv` será processado posteriormente.\n",
    "2. **Dicionário de Dados**: A célula carrega o arquivo `dicionario.xlsx`, que contém o dicionário de colunas que serão utilizadas no processamento.\n",
    "3. **Extração de Colunas**: Um loop percorre as linhas do dicionário de dados para armazenar o nome de cada coluna em uma lista chamada `columns_dict`."
   ]
  },
  {
   "cell_type": "code",
   "execution_count": null,
   "id": "e24e569a",
   "metadata": {},
   "outputs": [],
   "source": [
    "file = \"arquivo.csv\"\n",
    "df_dict = pd.read_excel(\"dicionario.xlsx\")\n",
    "columns_dict = []\n",
    "\n",
    "for campo in df_dict.values:\n",
    "    columns_dict.append(campo[0])"
   ]
  },
  {
   "cell_type": "markdown",
   "id": "bdb823d3",
   "metadata": {},
   "source": [
    "### Visualizando e removendo as colunas indesejáveis\n",
    "\n",
    "Além da extração das colunas corretas, vieram 3 colunas que não serão utilizadas na tabela final."
   ]
  },
  {
   "cell_type": "code",
   "execution_count": null,
   "id": "cc09afb4",
   "metadata": {},
   "outputs": [
    {
     "data": {
      "text/plain": [
       "[nan, nan, 'Campo']"
      ]
     },
     "execution_count": 3,
     "metadata": {},
     "output_type": "execute_result"
    }
   ],
   "source": [
    "columns_dict[:3]"
   ]
  },
  {
   "cell_type": "code",
   "execution_count": null,
   "id": "8599ff9c",
   "metadata": {},
   "outputs": [
    {
     "data": {
      "text/plain": [
       "'Campo'"
      ]
     },
     "execution_count": 4,
     "metadata": {},
     "output_type": "execute_result"
    }
   ],
   "source": [
    "columns_dict.pop(0)\n",
    "columns_dict.pop(0)\n",
    "columns_dict.pop(0)"
   ]
  },
  {
   "cell_type": "markdown",
   "id": "160231dc",
   "metadata": {},
   "source": [
    "### Ajuste de Nomes de Colunas no Dicionário de Dados\n",
    "\n",
    "Este bloco de código:\n",
    "- Substitui o nome da coluna `cd_ibge` por `d.cd_ibge`.\n",
    "- Substitui o nome da coluna `p.id_familia` por `d.id_familia`."
   ]
  },
  {
   "cell_type": "code",
   "execution_count": null,
   "id": "141fb1f3",
   "metadata": {},
   "outputs": [],
   "source": [
    "indice = columns_dict.index(\"cd_ibge\")\n",
    "columns_dict[indice] = \"d.cd_ibge\"\n",
    "\n",
    "indice = columns_dict.index(\"p.id_familia\")\n",
    "columns_dict[indice] = \"d.id_familia\""
   ]
  },
  {
   "cell_type": "markdown",
   "id": "fc2b50e3",
   "metadata": {},
   "source": [
    "### Filtragem e Exportação de Dados Processados\n",
    "\n",
    "- O arquivo original é carregado como `raw_df`, com todas as colunas convertidas para `str` e o separador `;`.\n",
    "- Um novo CSV (`table_processed.csv`) é gerado, incluindo apenas as colunas especificadas em `columns_dict`, e sem o índice."
   ]
  },
  {
   "cell_type": "code",
   "execution_count": null,
   "id": "2ef964df",
   "metadata": {},
   "outputs": [],
   "source": [
    "raw_df = pd.read_csv(file, sep=';', dtype=str)\n",
    "raw_df.to_csv(\"table_processed.csv\", columns=columns_dict, index=False )"
   ]
  },
  {
   "cell_type": "markdown",
   "id": "a327d2b9",
   "metadata": {},
   "source": [
    "### Carregamento dos Dados Processados\n",
    "\n",
    "- Carrega o arquivo CSV `table_processed.csv` (gerado na etapa anterior) no DataFrame `processed_df`, com todas as colunas convertidas para o tipo `str`.\n",
    "- Esse DataFrame agora contém apenas as colunas selecionadas e padronizadas do arquivo original. \n",
    "- Entretanto, o arquivo em questão ainda possui muitas linhas, impedindo sua total visualização em editores convencionias de csv.\n",
    "- Portanto, é necessária uma próxima etapa para particionar esse arquivo muito grande em arquivos menores.\n"
   ]
  },
  {
   "cell_type": "code",
   "execution_count": null,
   "id": "faafba3e",
   "metadata": {},
   "outputs": [],
   "source": [
    "processed_df = pd.read_csv(\"table_processed.csv\", dtype=str)"
   ]
  },
  {
   "cell_type": "markdown",
   "id": "ad5cf3cd",
   "metadata": {},
   "source": [
    "### Agrupando o total de linhas de cada cidade\n",
    "\n",
    "- Cria-se um objeto Series contendo o total de linhas no csv agrupadas pelo `d.cd_ibge` (código do ibge de cada cidade) e ordenados de forma descendente."
   ]
  },
  {
   "cell_type": "code",
   "execution_count": null,
   "id": "5e19e3aa",
   "metadata": {},
   "outputs": [],
   "source": [
    "qty_lines_groupedby_cities = processed_df.groupby(['d.cd_ibge'])['d.cd_ibge'].count().sort_values(ascending=False)"
   ]
  },
  {
   "cell_type": "markdown",
   "id": "b0f88993",
   "metadata": {},
   "source": [
    "- Definindo quantas cidades irão para cada parte do arquivo baseado nas ocorrências de seus `d.cd_ibge`."
   ]
  },
  {
   "cell_type": "code",
   "execution_count": null,
   "id": "d4125fff",
   "metadata": {},
   "outputs": [
    {
     "data": {
      "text/plain": [
       "2467745"
      ]
     },
     "execution_count": 35,
     "metadata": {},
     "output_type": "execute_result"
    }
   ],
   "source": [
    "sum(qty_lines_groupedby_cities[:7]) #808593\n",
    "sum(qty_lines_groupedby_cities[7:60]) #870543\n",
    "sum(qty_lines_groupedby_cities[60:]) #788609\n",
    "\n",
    "808593 + 870543 + 788609 "
   ]
  },
  {
   "cell_type": "markdown",
   "id": "6ef7db89",
   "metadata": {},
   "source": [
    "### Divisão do Dataset em Arquivos CSV por Faixa de Cidades\n",
    "\n",
    "Este bloco de código divide o dataset em diferentes partes, criando arquivos CSV distintos :\n",
    "\n",
    "- **Agrupamento de Códigos IBGE**: Coleta os códigos IBGE em três faixas de índices (primeiros 7, entre 7 e 60, e acima de 60).\n",
    "- **Criação de Arquivo CSV**: A cada ponto de corte (`6`, `59` ou final da lista), filtra o DataFrame `processed_df` para as cidades agrupadas, salva o resultado em um arquivo CSV e prepara para o próximo grupo.\n",
    "- **Controle de Partes**: `parte` é incrementado para garantir que os arquivos CSV sejam nomeados sequencialmente.\n"
   ]
  },
  {
   "cell_type": "code",
   "execution_count": null,
   "id": "a6b73426",
   "metadata": {},
   "outputs": [],
   "source": [
    "codigo_ibge_cidades = []\n",
    "parte = 1\n",
    "\n",
    "for idx, _ in enumerate(qty_lines_groupedby_cities):\n",
    "    if idx < 7:\n",
    "        codigo_ibge_cidades.append(qty_lines_groupedby_cities.index[idx])\n",
    "    elif 7 <= idx < 60:\n",
    "        codigo_ibge_cidades.append(qty_lines_groupedby_cities.index[idx])\n",
    "    elif 60 <= idx:\n",
    "        codigo_ibge_cidades.append(qty_lines_groupedby_cities.index[idx])\n",
    "\n",
    "    if idx in [6, 59, len(qty_lines_groupedby_cities) - 1]:\n",
    "        \n",
    "        final_csv_lines = []\n",
    "        \n",
    "        for codigo_ibge in codigo_ibge_cidades:\n",
    "            linha = processed_df[processed_df['d.cd_ibge'] == codigo_ibge].values\n",
    "            final_csv_lines.extend(list(linha))\n",
    "        table_cad_part = pd.DataFrame(columns=processed_df.columns, data=final_csv_lines)\n",
    "        table_cad_part.to_csv(f\"table_part{parte}.csv\", index=False)\n",
    "\n",
    "        codigo_ibge_cidades.clear()\n",
    "        parte +=1"
   ]
  },
  {
   "cell_type": "code",
   "execution_count": null,
   "id": "839cfff4",
   "metadata": {},
   "outputs": [],
   "source": [
    "df1 = pd.read_csv(\"table_part1.csv\", dtype=str)\n",
    "df2 = pd.read_csv(\"table_part2.csv\", dtype=str)\n",
    "df3 = pd.read_csv(\"table_part3.csv\", dtype=str)\n",
    "\n"
   ]
  },
  {
   "cell_type": "code",
   "execution_count": null,
   "id": "802b5bd1",
   "metadata": {},
   "outputs": [
    {
     "data": {
      "text/plain": [
       "True"
      ]
     },
     "execution_count": 38,
     "metadata": {},
     "output_type": "execute_result"
    }
   ],
   "source": [
    "len(df1) + len(df2) + len(df3) == len(processed_df)\n"
   ]
  }
 ],
 "metadata": {
  "kernelspec": {
   "display_name": "Python 3",
   "language": "python",
   "name": "python3"
  },
  "language_info": {
   "codemirror_mode": {
    "name": "ipython",
    "version": 3
   },
   "file_extension": ".py",
   "mimetype": "text/x-python",
   "name": "python",
   "nbconvert_exporter": "python",
   "pygments_lexer": "ipython3",
   "version": "3.12.3"
  }
 },
 "nbformat": 4,
 "nbformat_minor": 5
}
